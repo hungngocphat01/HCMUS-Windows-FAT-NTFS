{
 "cells": [
  {
   "cell_type": "code",
   "execution_count": 1,
   "metadata": {},
   "outputs": [],
   "source": [
    "from zipfile import ZipFile, Path\n",
    "import os\n",
    "from NavigatorTest import TestVolume, TestFile, TestDirectory"
   ]
  },
  {
   "cell_type": "code",
   "execution_count": 2,
   "metadata": {},
   "outputs": [],
   "source": [
    "zf = ZipFile(\"TEST_DRIVE_DATA.zip\", \"r\")"
   ]
  },
  {
   "cell_type": "code",
   "execution_count": 3,
   "metadata": {},
   "outputs": [
    {
     "data": {
      "text/plain": [
       "['DOCUMENT/',\n",
       " 'DOCUMENT/NESOnTapKTLT_main.pdf',\n",
       " 'DOCUMENT/hackintosh.txt',\n",
       " 'DOCUMENT/BAITAP/',\n",
       " 'DOCUMENT/BAITAP/Toán ứng dụng.png',\n",
       " 'DOCUMENT/BAITAP/Hệ điều hành.txt',\n",
       " 'DOCUMENT/GIẢI ĐÁP THẮC MẮC PROJECT 1.docx',\n",
       " 'HINH ANH/',\n",
       " 'HINH ANH/ponk.jpg',\n",
       " 'HINH ANH/bliss.jpg',\n",
       " 'MUSIC/',\n",
       " 'MUSIC/Mirai Harmony.mp3',\n",
       " 'onthi.txt']"
      ]
     },
     "execution_count": 3,
     "metadata": {},
     "output_type": "execute_result"
    }
   ],
   "source": [
    "zf.namelist()"
   ]
  },
  {
   "cell_type": "code",
   "execution_count": 4,
   "metadata": {},
   "outputs": [],
   "source": [
    "path = Path(zf)"
   ]
  },
  {
   "cell_type": "code",
   "execution_count": 5,
   "metadata": {},
   "outputs": [
    {
     "name": "stdout",
     "output_type": "stream",
     "text": [
      "TEST_DRIVE_DATA.zip/DOCUMENT/\n",
      "TEST_DRIVE_DATA.zip/HINH ANH/\n",
      "TEST_DRIVE_DATA.zip/MUSIC/\n",
      "TEST_DRIVE_DATA.zip/onthi.txt\n"
     ]
    }
   ],
   "source": [
    "for entry in path.iterdir():\n",
    "    entry_path = path / entry.name \n",
    "    print(entry_path)"
   ]
  },
  {
   "cell_type": "code",
   "execution_count": 6,
   "metadata": {},
   "outputs": [
    {
     "data": {
      "text/plain": [
       "<ZipInfo filename='HINH ANH/ponk.jpg' compress_type=deflate filemode='-rw-r--r--' file_size=236943 compress_size=232878>"
      ]
     },
     "execution_count": 6,
     "metadata": {},
     "output_type": "execute_result"
    }
   ],
   "source": [
    "zf.getinfo('HINH ANH/ponk.jpg')"
   ]
  },
  {
   "cell_type": "code",
   "execution_count": 7,
   "metadata": {},
   "outputs": [],
   "source": [
    "vol = TestVolume(zf)"
   ]
  },
  {
   "cell_type": "code",
   "execution_count": 8,
   "metadata": {},
   "outputs": [],
   "source": [
    "vol.root_directory.build_tree()"
   ]
  },
  {
   "cell_type": "code",
   "execution_count": 9,
   "metadata": {},
   "outputs": [],
   "source": [
    "test_dir = vol.root_directory.subentries[1]"
   ]
  },
  {
   "cell_type": "code",
   "execution_count": 10,
   "metadata": {},
   "outputs": [],
   "source": [
    "test_dir.build_tree()"
   ]
  },
  {
   "cell_type": "code",
   "execution_count": 14,
   "metadata": {},
   "outputs": [],
   "source": [
    "ponk = test_dir.subentries[0]"
   ]
  },
  {
   "cell_type": "code",
   "execution_count": 16,
   "metadata": {},
   "outputs": [],
   "source": [
    "ponk_bin = ponk.dump_binary_data()"
   ]
  },
  {
   "cell_type": "code",
   "execution_count": 17,
   "metadata": {},
   "outputs": [],
   "source": [
    "with open(\"ponk.jpg\", \"wb\") as f:\n",
    "    f.write(ponk_bin)"
   ]
  },
  {
   "cell_type": "code",
   "execution_count": null,
   "metadata": {},
   "outputs": [],
   "source": []
  }
 ],
 "metadata": {
  "interpreter": {
   "hash": "3d597f4c481aa0f25dceb95d2a0067e73c0966dcbd003d741d821a7208527ecf"
  },
  "kernelspec": {
   "display_name": "Python 3.9.7 64-bit ('base': conda)",
   "name": "python3"
  },
  "language_info": {
   "codemirror_mode": {
    "name": "ipython",
    "version": 3
   },
   "file_extension": ".py",
   "mimetype": "text/x-python",
   "name": "python",
   "nbconvert_exporter": "python",
   "pygments_lexer": "ipython3",
   "version": "3.9.7"
  },
  "orig_nbformat": 4
 },
 "nbformat": 4,
 "nbformat_minor": 2
}
